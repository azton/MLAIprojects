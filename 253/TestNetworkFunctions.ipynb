{
 "cells": [
  {
   "cell_type": "code",
   "execution_count": 39,
   "metadata": {},
   "outputs": [],
   "source": [
    "from dataloader import load_data, display_face, balanced_sampler\n",
    "import numpy as np"
   ]
  },
  {
   "cell_type": "code",
   "execution_count": 40,
   "metadata": {},
   "outputs": [
    {
     "name": "stdout",
     "output_type": "stream",
     "text": [
      "Emotions: ['surprise', 'happiness', 'fear', 'disgust', 'anger', 'sadness'] \n",
      "\n",
      "surprise: 83 # of images\n",
      "happiness: 69 # of images\n",
      "fear: 25 # of images\n",
      "disgust: 59 # of images\n",
      "anger: 45 # of images\n",
      "sadness: 28 # of images\n"
     ]
    }
   ],
   "source": [
    "images, cnt = load_data(data_dir = './resources/PA1/aligned')\n",
    "total = 0;\n",
    "for k in cnt:\n",
    "    total += cnt[k]\n",
    "correlate = {1:'surprise',2:'happiness',3:'fear',4:'disgust',5:'anger', 6:'sadness'}\n",
    "emotions = []\n",
    "for k in images:\n",
    "    emotions.append(k)"
   ]
  },
  {
   "cell_type": "code",
   "execution_count": 66,
   "metadata": {},
   "outputs": [
    {
     "name": "stdout",
     "output_type": "stream",
     "text": [
      "\n",
      "Balanced Set:\n",
      "surprise: 25 # of images\n",
      "happiness: 25 # of images\n",
      "fear: 25 # of images\n",
      "disgust: 25 # of images\n",
      "anger: 25 # of images\n",
      "sadness: 25 # of images\n",
      "43008 150\n",
      "(150, 43008) (150, 6)\n"
     ]
    }
   ],
   "source": [
    "# generate random sample of values with 1/10th holdout--make the array of labels too.\n",
    "def train_validate_data(emotions, images, cnt)    \n",
    "    train = []\n",
    "    t_labels = []\n",
    "    verify = []\n",
    "    v_labels = []\n",
    "    bal_subset = balanced_sampler(images, cnt, emotions)\n",
    "    subtotal = 0\n",
    "    min_cnt = 100000\n",
    "    for k in emotions:\n",
    "        subtotal += len(bal_subset[k])\n",
    "        if len(bal_subset[k]) < min_cnt:\n",
    "            min_cnt = len(bal_subset[k])\n",
    "    ##\n",
    "    #    load data to numpy arrays for easier batch processing\n",
    "    ##\n",
    "    axis0 = len(bal_subset[emotions[0]][0].flatten())\n",
    "    print (axis0, subtotal)\n",
    "    X = np.zeros((subtotal, axis0))\n",
    "    Y = np.zeros((subtotal, 6))\n",
    "    print(np.shape(X), np.shape(Y))\n",
    "    for j,e in enumerate(emotions):\n",
    "        for i in range(len(bal_subset[e])):\n",
    "            X[i+j*min_cnt] = bal_subset[e][i].flatten()\n",
    "    ##\n",
    "    #   Separate data to training and verification sets\n",
    "    ##\n",
    "\n",
    "    n_verify = int(min_cnt/10+0.5)\n",
    "    for n in range(n_verify):\n",
    "        for i in range(len(emotions)):\n",
    "            verify.append(X[n+i*min_cnt])\n",
    "            v_labels.append(Y[n+i*min[cnt]])\n",
    "    for n in range(n_verify, min_cnt):\n",
    "        for i in range(len(emotions)):\n",
    "            train.append(X[n+i*min_cnt])\n",
    "            t_labels.append(Y[n+i*min_cnt])\n",
    "    verify = np.array(verify)\n",
    "    v_labels = np.array(v_labels)\n",
    "    train = np.array(train)\n",
    "    t_labels = np.array(t_labels)\n",
    "\n",
    "    #\n",
    "    #  Randomize the order of the training data\n",
    "    #\n",
    "\n",
    "    rnd = np.random.shuffle(np.arange(len(train)))\n",
    "    train = train[rnd]\n",
    "    t_labels = t_labels[rnd]\n",
    "return train, t_labels, verify, v_label"
   ]
  },
  {
   "cell_type": "code",
   "execution_count": null,
   "metadata": {},
   "outputs": [],
   "source": [
    "##\n",
    "#  Log regression\n",
    "##\n",
    "\n",
    "## logistic function (or sigmoid)\n",
    "def logistic(w,x):\n",
    "    return (1+np.exp(-w.T*x))**-1.0\n",
    "## derivative of logistic\n",
    "def d_logistic(w,x):\n",
    "    return logistic(w,x)*(1.0-logistic(w,x))\n",
    "\n",
    "##\n",
    "#   Softmax\n",
    "##\n",
    "def softmax(w,x,Z)\n",
    "    return np.exp(-w.T*x)/(np.exp(-Z))"
   ]
  },
  {
   "cell_type": "code",
   "execution_count": null,
   "metadata": {},
   "outputs": [],
   "source": []
  },
  {
   "cell_type": "code",
   "execution_count": null,
   "metadata": {},
   "outputs": [],
   "source": []
  }
 ],
 "metadata": {
  "kernelspec": {
   "display_name": "Python 3",
   "language": "python",
   "name": "python3"
  },
  "language_info": {
   "codemirror_mode": {
    "name": "ipython",
    "version": 3
   },
   "file_extension": ".py",
   "mimetype": "text/x-python",
   "name": "python",
   "nbconvert_exporter": "python",
   "pygments_lexer": "ipython3",
   "version": "3.7.3"
  }
 },
 "nbformat": 4,
 "nbformat_minor": 2
}
